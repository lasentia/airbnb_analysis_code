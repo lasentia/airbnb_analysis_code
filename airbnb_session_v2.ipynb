{
 "cells": [
  {
   "cell_type": "code",
   "execution_count": 80,
   "id": "f734de58-000e-46c6-99d7-8c02fbb448e0",
   "metadata": {},
   "outputs": [],
   "source": [
    "import numpy as np\n",
    "import pandas as pd\n",
    "import matplotlib.pyplot as plt\n",
    "import seaborn as sns\n",
    "import re\n",
    "\n",
    "# 한글 폰트 설정\n",
    "plt.rcParams['font.family'] = 'Malgun Gothic'\n",
    "plt.rcParams['axes.unicode_minus'] = False ## 마이너스 부호 깨짐 방지\n",
    "\n",
    "pd.set_option('display.max_columns', None)                       # 출력할 열의 최대개수\n",
    "pd.set_option('display.max_colwidth', None)                      # 출력할 열의 너비\n",
    "# pd.reset_option('display.max_rows', None)                    # 출력할 행의 최대개수  None\n",
    "pd.set_option('display.unicode.east_asian_width', True) "
   ]
  },
  {
   "cell_type": "markdown",
   "id": "25dbe6de-9370-4e22-b084-b774d8ddb35e",
   "metadata": {},
   "source": [
    "## sessions\n",
    "사용자에 대한 웹 세션 로그\n",
    "- user_id: to be joined with the column 'id' in users table\n",
    "- action -> 조회, 검색결과, 대시보드 등 다양한 액션이 있음 -> click에 대한 대분류이지 않을까?\n",
    "- action_type\n",
    "- action_detail\n",
    "- device_type -> 웹 방문에 대한 기기 종류\n",
    "- secs_elapsed -> 세션에 머문 시간 (초단위)\n",
    "\n",
    "세션 데이터세트에서 데이터는 2014년 1월 1일까지만 거슬러 올라가는 반면, 사용자 데이터세트는 2010년까지 거슬러 올라갑니다."
   ]
  },
  {
   "cell_type": "code",
   "execution_count": null,
   "id": "88d929cb-fc19-4d9f-8fa2-12315e086736",
   "metadata": {},
   "outputs": [],
   "source": [
    "from action_detail_category import detail\n",
    "new_ss = detail(sessions)\n",
    "new_ss"
   ]
  },
  {
   "cell_type": "code",
   "execution_count": 81,
   "id": "023be515-f3df-40da-bf61-e4b25393246f",
   "metadata": {},
   "outputs": [
    {
     "data": {
      "text/html": [
       "<div>\n",
       "<style scoped>\n",
       "    .dataframe tbody tr th:only-of-type {\n",
       "        vertical-align: middle;\n",
       "    }\n",
       "\n",
       "    .dataframe tbody tr th {\n",
       "        vertical-align: top;\n",
       "    }\n",
       "\n",
       "    .dataframe thead th {\n",
       "        text-align: right;\n",
       "    }\n",
       "</style>\n",
       "<table border=\"1\" class=\"dataframe\">\n",
       "  <thead>\n",
       "    <tr style=\"text-align: right;\">\n",
       "      <th></th>\n",
       "      <th>user_id</th>\n",
       "      <th>action</th>\n",
       "      <th>action_type</th>\n",
       "      <th>action_detail</th>\n",
       "      <th>device_type</th>\n",
       "      <th>secs_elapsed</th>\n",
       "    </tr>\n",
       "  </thead>\n",
       "  <tbody>\n",
       "    <tr>\n",
       "      <th>0</th>\n",
       "      <td>d1mm9tcy42</td>\n",
       "      <td>lookup</td>\n",
       "      <td>NaN</td>\n",
       "      <td>NaN</td>\n",
       "      <td>Windows Desktop</td>\n",
       "      <td>319.0</td>\n",
       "    </tr>\n",
       "    <tr>\n",
       "      <th>1</th>\n",
       "      <td>d1mm9tcy42</td>\n",
       "      <td>search_results</td>\n",
       "      <td>click</td>\n",
       "      <td>view_search_results</td>\n",
       "      <td>Windows Desktop</td>\n",
       "      <td>67753.0</td>\n",
       "    </tr>\n",
       "    <tr>\n",
       "      <th>2</th>\n",
       "      <td>d1mm9tcy42</td>\n",
       "      <td>lookup</td>\n",
       "      <td>NaN</td>\n",
       "      <td>NaN</td>\n",
       "      <td>Windows Desktop</td>\n",
       "      <td>301.0</td>\n",
       "    </tr>\n",
       "    <tr>\n",
       "      <th>3</th>\n",
       "      <td>d1mm9tcy42</td>\n",
       "      <td>search_results</td>\n",
       "      <td>click</td>\n",
       "      <td>view_search_results</td>\n",
       "      <td>Windows Desktop</td>\n",
       "      <td>22141.0</td>\n",
       "    </tr>\n",
       "    <tr>\n",
       "      <th>4</th>\n",
       "      <td>d1mm9tcy42</td>\n",
       "      <td>lookup</td>\n",
       "      <td>NaN</td>\n",
       "      <td>NaN</td>\n",
       "      <td>Windows Desktop</td>\n",
       "      <td>435.0</td>\n",
       "    </tr>\n",
       "  </tbody>\n",
       "</table>\n",
       "</div>"
      ],
      "text/plain": [
       "      user_id          action action_type        action_detail  \\\n",
       "0  d1mm9tcy42          lookup         NaN                  NaN   \n",
       "1  d1mm9tcy42  search_results       click  view_search_results   \n",
       "2  d1mm9tcy42          lookup         NaN                  NaN   \n",
       "3  d1mm9tcy42  search_results       click  view_search_results   \n",
       "4  d1mm9tcy42          lookup         NaN                  NaN   \n",
       "\n",
       "       device_type  secs_elapsed  \n",
       "0  Windows Desktop         319.0  \n",
       "1  Windows Desktop       67753.0  \n",
       "2  Windows Desktop         301.0  \n",
       "3  Windows Desktop       22141.0  \n",
       "4  Windows Desktop         435.0  "
      ]
     },
     "execution_count": 81,
     "metadata": {},
     "output_type": "execute_result"
    }
   ],
   "source": [
    "## sessions\n",
    "sessions = pd.read_csv('D:\\데브코스_최종프로젝트/airbnb-recruiting-new-user-bookings/sessions.csv')\n",
    "sessions.head()"
   ]
  },
  {
   "cell_type": "code",
   "execution_count": 82,
   "id": "5e7bfed4-58a3-42fd-8512-1be5dbd6d067",
   "metadata": {},
   "outputs": [
    {
     "data": {
      "text/plain": [
       "user_id            34496\n",
       "action             79626\n",
       "action_type      1126204\n",
       "action_detail    1126204\n",
       "device_type            0\n",
       "secs_elapsed      136031\n",
       "dtype: int64"
      ]
     },
     "execution_count": 82,
     "metadata": {},
     "output_type": "execute_result"
    }
   ],
   "source": [
    "sessions.isnull().sum()"
   ]
  },
  {
   "cell_type": "markdown",
   "id": "ceb0e5ad-bd06-49fa-9255-0a80d660d4cb",
   "metadata": {},
   "source": [
    "## user_id\n",
    "- 결측치 - 34496 존재 -> train 데이터와 id로 결합하기 어려움으로 삭제하는 것이 좋아보임"
   ]
  },
  {
   "cell_type": "code",
   "execution_count": 83,
   "id": "df84d703-1bf4-4c24-95ac-c08be58a8962",
   "metadata": {},
   "outputs": [],
   "source": [
    "## user_id 결측치 삭제\n",
    "sessions.dropna(subset=['user_id'], inplace=True)"
   ]
  },
  {
   "cell_type": "code",
   "execution_count": 84,
   "id": "1122d796-d596-4e59-b6e5-7e470937ad58",
   "metadata": {},
   "outputs": [
    {
     "data": {
      "text/plain": [
       "user_id                0\n",
       "action             79480\n",
       "action_type      1122957\n",
       "action_detail    1122957\n",
       "device_type            0\n",
       "secs_elapsed      135483\n",
       "dtype: int64"
      ]
     },
     "execution_count": 84,
     "metadata": {},
     "output_type": "execute_result"
    }
   ],
   "source": [
    "sessions.isnull().sum()"
   ]
  },
  {
   "cell_type": "markdown",
   "id": "25bb407d-db21-42ff-ab80-a2ccb06b6549",
   "metadata": {},
   "source": [
    "## action_detail 대분류 진행 -> Action? "
   ]
  },
  {
   "cell_type": "code",
   "execution_count": 85,
   "id": "95f2f1ae-23fe-4d14-8744-998f0c9222ff",
   "metadata": {},
   "outputs": [],
   "source": [
    "## 원본 데이터 보존\n",
    "new_sessions = sessions.copy()\n",
    "\n",
    "## Nan값 0으로 변환\n",
    "new_sessions = new_sessions.fillna(0)"
   ]
  },
  {
   "cell_type": "code",
   "execution_count": 8,
   "id": "c2f59b0d-635b-44fc-b6bd-6c90638ca8ad",
   "metadata": {},
   "outputs": [],
   "source": [
    "def list_diff(a, b):\n",
    "    set_a = set(a)\n",
    "    set_b = set(b)\n",
    "    a_ = list(set_a - set_b)\n",
    "    b_ = list(set_b - set_a)\n",
    "    total_ = a_ + b_\n",
    "    # print(f'a에만 있고 b에는 없는 것{set_a - set_b}')\n",
    "    # print(f'b에만 있고 a에는 없는 것{set_b - set_a}')\n",
    "    print(total_)\n",
    "    return True\n",
    "\n",
    "# 비교 함수\n",
    "def find_diff(list1, list2):\n",
    "    for i in list1:\n",
    "        if i not in list2:\n",
    "            print(i)"
   ]
  },
  {
   "cell_type": "code",
   "execution_count": 27,
   "id": "e3050299-04be-42e1-90f7-f74dd93274bc",
   "metadata": {},
   "outputs": [],
   "source": [
    "orginlist = new_sessions['action_detail'].unique().tolist()"
   ]
  },
  {
   "cell_type": "code",
   "execution_count": 59,
   "id": "a28a9d78-88fd-47e8-9c82-b481592e8815",
   "metadata": {},
   "outputs": [],
   "source": [
    "new_list = view_search + unknown + user_update + change_trip + login_out + review + host + booking + new_user + message + wishlist"
   ]
  },
  {
   "cell_type": "markdown",
   "id": "9a502b58-5c10-4263-8a87-3b9b13a01588",
   "metadata": {},
   "source": [
    "### 검색/조회"
   ]
  },
  {
   "cell_type": "code",
   "execution_count": 86,
   "id": "44e8f827-8280-454c-89b9-d13edcf2d5c8",
   "metadata": {},
   "outputs": [],
   "source": [
    "# unavailable_dates -> 여행 특성 변경으로 고려\n",
    "view_search = ['view_locations', 'view_search_results', 'p3', 'unavailable_dates', 'p5', 'p4', 'p1', 'popular_wishlists', \n",
    "               'terms_and_privacy', 'click_about_host', 'move_map', 'click_amenities', 'toggle_archived_thread', \n",
    "               'user_friend_recommendations', 'p4_refund_policy_terms', 'translations', 'p4_terms', 'toggle_starred_thread',\n",
    "              'cancellation_policy', 'share', 'view_security_checks', 'place_worth', 'view_resolutions', \n",
    "               'view_user_real_names', 'view_ghostings', 'view_ghosting_reasons', 'homepage',\n",
    "              'special_offer_field', 'tos_2014', 'your_trips', 'notifications', 'photos','profile_references', 'cancellation_policies'] "
   ]
  },
  {
   "cell_type": "code",
   "execution_count": 87,
   "id": "738e7e1c-7479-4a8c-9025-5e979894df6c",
   "metadata": {},
   "outputs": [],
   "source": [
    "new_sessions['action_detail'].replace(view_search, 'view_search', inplace=True)"
   ]
  },
  {
   "cell_type": "markdown",
   "id": "ce0e4b2d-a364-4f73-b945-d94f27118d69",
   "metadata": {},
   "source": [
    "### Unknown"
   ]
  },
  {
   "cell_type": "code",
   "execution_count": 88,
   "id": "39aeeccc-f3ff-4ab6-8d9f-dcc8eb92f83d",
   "metadata": {},
   "outputs": [],
   "source": [
    "unknown = ['-unknown-',]"
   ]
  },
  {
   "cell_type": "code",
   "execution_count": 89,
   "id": "c3260031-5bb9-4674-994e-f6b714cd30a5",
   "metadata": {},
   "outputs": [],
   "source": [
    "new_sessions['action_detail'].replace(unknown, 'unknown', inplace=True)"
   ]
  },
  {
   "cell_type": "markdown",
   "id": "d3b2e595-cdab-4204-8de1-cfecfa6572eb",
   "metadata": {},
   "source": [
    "### 위시리스트"
   ]
  },
  {
   "cell_type": "code",
   "execution_count": 90,
   "id": "4ffd553d-4981-4d33-8f26-4a7abe8473dd",
   "metadata": {},
   "outputs": [],
   "source": [
    "wishlist = ['wishlist', 'wishlist_content_update', 'user_wishlists', 'wishlist_note', 'friends_wishlists', 'email_wishlist_button',\n",
    "           'email_wishlist', 'airbnb_picks_wishlists']"
   ]
  },
  {
   "cell_type": "code",
   "execution_count": 91,
   "id": "89a0cad5-97ba-430f-abf4-c1c4d07b6a5e",
   "metadata": {},
   "outputs": [],
   "source": [
    "new_sessions['action_detail'].replace(wishlist, 'wishlist', inplace=True)"
   ]
  },
  {
   "cell_type": "markdown",
   "id": "fe667c81-57b1-4d9b-ab1e-d36a171023bf",
   "metadata": {},
   "source": [
    "### 정보 수정"
   ]
  },
  {
   "cell_type": "code",
   "execution_count": 92,
   "id": "53f2cbb5-4416-4755-b676-0ce2880a6003",
   "metadata": {},
   "outputs": [],
   "source": [
    "user_update = ['user_profile', 'header_userpic', 'edit_profile', 'user_profile_content_update', 'phone_verification_success',\n",
    "              'account_transaction_history', 'account_privacy_settings', 'user_languages', 'delete_phone_numbers',\n",
    "              'change_or_alter', 'account_payment_methods', 'modify_users', 'previous_trips', 'at_checkpoint',\n",
    "               'alteration_field', 'change_password', 'create_payment_instrument', 'view_identity_verifications',\n",
    "              'phone_numbers', 'set_default_payment_instrument', 'deactivate_user_account',\n",
    "              'delete_payment_instrument', 'update_user', 'create_phone_numbers', 'update_user_profile', \n",
    "             'account_notification_settings', 'request_new_confirm_email', 'account_payout_preferences', 'profile_verifications']"
   ]
  },
  {
   "cell_type": "code",
   "execution_count": 93,
   "id": "de530977-b1ae-4616-9b45-50aa4d6c928b",
   "metadata": {},
   "outputs": [],
   "source": [
    "new_sessions['action_detail'].replace(user_update, 'user_update', inplace=True)"
   ]
  },
  {
   "cell_type": "markdown",
   "id": "bd7c45c6-690d-42a7-a214-26238bd8b92b",
   "metadata": {},
   "source": [
    "### 여행 특성 변경"
   ]
  },
  {
   "cell_type": "code",
   "execution_count": 94,
   "id": "8902978b-8e74-46ef-ad40-7dc6563b12f6",
   "metadata": {},
   "outputs": [],
   "source": [
    "change_trip = ['change_trip_characteristics', 'trip_availability']"
   ]
  },
  {
   "cell_type": "code",
   "execution_count": 95,
   "id": "44e16e14-e29f-4ab5-b942-598ca7047a5f",
   "metadata": {},
   "outputs": [],
   "source": [
    "new_sessions['action_detail'].replace(change_trip, 'change_trip', inplace=True)"
   ]
  },
  {
   "cell_type": "markdown",
   "id": "b1cf7b01-5740-46ca-87fd-ed468bd520b1",
   "metadata": {},
   "source": [
    "### 로그인/로그아웃\n",
    "- 'oauth_response', -> 네이버 등  간편 로그인 기능도 OAuth2 프로토콜 기반의 사용자 인증 기능을 제공\n",
    "\r\n"
   ]
  },
  {
   "cell_type": "code",
   "execution_count": 96,
   "id": "b8c78cda-d272-463f-b30d-334851a72900",
   "metadata": {},
   "outputs": [],
   "source": [
    "login_out = ['user_social_connections', 'login', 'oauth_response', 'oauth_login', 'login_page', 'login_modal', 'forgot_password', 'set_password', \n",
    "             'set_password_page', 'confirm_email']"
   ]
  },
  {
   "cell_type": "code",
   "execution_count": 97,
   "id": "281d994c-6e49-42f2-be98-17152ca8ea01",
   "metadata": {},
   "outputs": [],
   "source": [
    "new_sessions['action_detail'].replace(login_out, 'login_out', inplace=True)"
   ]
  },
  {
   "cell_type": "markdown",
   "id": "fe311f36-75b1-42a5-b7d8-3c06287b084a",
   "metadata": {},
   "source": [
    "### 리뷰 조회"
   ]
  },
  {
   "cell_type": "code",
   "execution_count": 98,
   "id": "0b311f54-cb46-4c9d-adfc-ecd6f4bd2526",
   "metadata": {},
   "outputs": [],
   "source": [
    "review = ['user_reviews', 'profile_reviews', 'click_reviews']"
   ]
  },
  {
   "cell_type": "code",
   "execution_count": 99,
   "id": "e95fa7eb-ec30-4874-ba65-527d804e036f",
   "metadata": {},
   "outputs": [],
   "source": [
    "new_sessions['action_detail'].replace(review, 'review', inplace=True)"
   ]
  },
  {
   "cell_type": "markdown",
   "id": "c2286790-dd0e-42c9-b927-ff86229a72e4",
   "metadata": {},
   "source": [
    "### 호스트"
   ]
  },
  {
   "cell_type": "code",
   "execution_count": 100,
   "id": "9ec0e7a2-364c-4e44-9cd6-84ae1f206d65",
   "metadata": {},
   "outputs": [],
   "source": [
    "host = ['similar_listings', 'listing_reviews', 'update_listing', 'dashboard', 'user_listings', 'your_listings', 'listing_recommendations', 'update_listing_description',\n",
    "       'manage_listing', 'view_listing', 'list_your_space', 'create_listing', 'listing_descriptions', 'listing_reviews_page',\n",
    "        'translate_listing_reviews', 'delete_listing_description', 'delete_listing', 'calculate_worth', 'change_availability',\n",
    "       'host_respond', 'admin_templates', 'host_guarantee', 'user_tax_forms', 'host_home', 'respond_to_alteration_request', \n",
    "        'host_standard_suspension', 'host_respond_page', 'remove_dashboard_alert', 'post_checkout_action']"
   ]
  },
  {
   "cell_type": "code",
   "execution_count": 101,
   "id": "178e1fc2-64ee-47c8-8e51-32c59c87926c",
   "metadata": {},
   "outputs": [],
   "source": [
    "new_sessions['action_detail'].replace(host, 'host', inplace=True)"
   ]
  },
  {
   "cell_type": "markdown",
   "id": "b8f8b573-e367-449c-bd6d-e0fa4445e743",
   "metadata": {},
   "source": [
    "### 예약\n",
    "- 예약 보류, 예약 취소"
   ]
  },
  {
   "cell_type": "code",
   "execution_count": 102,
   "id": "458c80a8-fc19-4726-b782-dca81931d058",
   "metadata": {},
   "outputs": [],
   "source": [
    "booking = ['instant_book', 'coupon_code_click', 'change_contact_host_dates', 'reservations', 'payment_instruments',\n",
    "           'pending', 'apply_coupon', 'book_it', 'apply_coupon_click', 'request_to_book',\n",
    "          'your_reservations','guest_receipt', 'guest_itinerary', 'complete_booking', 'booking', 'guest_cancellation', \n",
    "           'apply_coupon_click_success', 'modify_reservations', 'view_reservations', 'alteration_request', 'create_alteration_request', \n",
    "           'host_refund_guest', 'cancellation_policy_click','apply_coupon_error', 'coupon_field_focus']\n",
    "\n",
    "# 'guest_cancellation'(취소), 'modify_reservations'(애매), 'cancellation_policy_click'(취소) 'host_refund_guest' -> 환불이기 때문에 추후 분석해보기?"
   ]
  },
  {
   "cell_type": "code",
   "execution_count": 103,
   "id": "76f31466-bc4c-4da4-a1d3-b0b3181cc6f6",
   "metadata": {},
   "outputs": [],
   "source": [
    "new_sessions['action_detail'].replace(booking, 'booking', inplace=True)"
   ]
  },
  {
   "cell_type": "markdown",
   "id": "bd4be739-fd38-4169-aaf0-7cb15c1dbd24",
   "metadata": {},
   "source": [
    "### 회원가입"
   ]
  },
  {
   "cell_type": "code",
   "execution_count": 104,
   "id": "1c8dab71-7aed-4d74-ac58-7bf29bbc7c83",
   "metadata": {},
   "outputs": [],
   "source": [
    "new_user = ['confirm_email_link', 'create_user', 'signup', 'signup_login_page', 'signup_modal', 'read_policy_click']"
   ]
  },
  {
   "cell_type": "code",
   "execution_count": 105,
   "id": "e06ac45d-dff5-4d7e-9e4b-6b0020be1bcf",
   "metadata": {},
   "outputs": [],
   "source": [
    "new_sessions['action_detail'].replace(new_user, 'new_user', inplace=True)"
   ]
  },
  {
   "cell_type": "markdown",
   "id": "ca4aab6e-bca0-4c65-a978-71ef56f08ebe",
   "metadata": {},
   "source": [
    "### 메시지"
   ]
  },
  {
   "cell_type": "code",
   "execution_count": 106,
   "id": "af2de29f-7988-4540-a114-6fa83b69e1b7",
   "metadata": {},
   "outputs": [],
   "source": [
    "message = ['contact_host', 'message_thread', 'message_post', 'message_inbox', 'send_message','message_to_host_focus', 'lookup_message_thread', 'message_to_host_change']"
   ]
  },
  {
   "cell_type": "code",
   "execution_count": 107,
   "id": "4fa0c434-d124-4b58-8ab1-0021dc500cdf",
   "metadata": {},
   "outputs": [],
   "source": [
    "new_sessions['action_detail'].replace(message, 'message', inplace=True)"
   ]
  },
  {
   "cell_type": "markdown",
   "id": "b463c4ca-4f4f-4b45-adcb-29822e81aa10",
   "metadata": {},
   "source": [
    "## EDA"
   ]
  },
  {
   "cell_type": "code",
   "execution_count": 110,
   "id": "02270bd3-cc08-4b91-9c6d-7f024d0f0865",
   "metadata": {},
   "outputs": [
    {
     "data": {
      "text/plain": [
       "action_detail\n",
       "view_search    3459178\n",
       "host           1263115\n",
       "user_update    1124168\n",
       "0              1122957\n",
       "unknown        1028222\n",
       "wishlist        872076\n",
       "change_trip     494909\n",
       "login_out       416955\n",
       "message         364817\n",
       "booking         186869\n",
       "new_user        148335\n",
       "review           51640\n",
       "Name: count, dtype: int64"
      ]
     },
     "execution_count": 110,
     "metadata": {},
     "output_type": "execute_result"
    }
   ],
   "source": [
    "new_sessions['action_detail'].value_counts()"
   ]
  },
  {
   "cell_type": "code",
   "execution_count": 113,
   "id": "9ee3b466-5afe-47fb-a2c8-565aeb7fd3a0",
   "metadata": {},
   "outputs": [
    {
     "data": {
      "text/plain": [
       "array(['lookup', 'show', 'track_page_view', 'widget', 'uptodate', 'index',\n",
       "       'campaigns', 'currencies', 'localization_settings', 'update',\n",
       "       'phone_verification', 'satisfy', 'track_activity', 'check',\n",
       "       'signed_out_modal', 'disaster_action', 'similar_listings_v2',\n",
       "       'braintree_client_token'], dtype=object)"
      ]
     },
     "execution_count": 113,
     "metadata": {},
     "output_type": "execute_result"
    }
   ],
   "source": [
    "new_sessions[new_sessions['action_detail'] == 0]['action'].unique()"
   ]
  }
 ],
 "metadata": {
  "kernelspec": {
   "display_name": "Python 3 (ipykernel)",
   "language": "python",
   "name": "python3"
  },
  "language_info": {
   "codemirror_mode": {
    "name": "ipython",
    "version": 3
   },
   "file_extension": ".py",
   "mimetype": "text/x-python",
   "name": "python",
   "nbconvert_exporter": "python",
   "pygments_lexer": "ipython3",
   "version": "3.11.5"
  }
 },
 "nbformat": 4,
 "nbformat_minor": 5
}
